{
 "cells": [
  {
   "cell_type": "code",
   "execution_count": 11,
   "metadata": {},
   "outputs": [],
   "source": [
    "def month():\n",
    "    \n",
    "    # months is used as a lookup table\n",
    "    months = \"JanFebMarAprMayJunJulAugSepOctNovDec\"\n",
    "    months = [\"January\", \"February\", \"March\", \"April\", \"May\", \"June\", \"July\", \"August\", \"September\", \"October\", \"November\", \"December\"]\n",
    "\n",
    "    \n",
    "    n = eval(input(\"Enter a month number (1-12): \"))\n",
    "   \n",
    "    # compute starting position of month n in months\n",
    "    #pos = (n-1) * 3\n",
    "    \n",
    "    # Grab the appropriate slice from months\n",
    "    #monthAbbrev = months[pos:pos+3]\n",
    "\n",
    "    # print the result    \n",
    "    print (\"The month abbreviation is\", months[n-1] + \".\")\n"
   ]
  },
  {
   "cell_type": "code",
   "execution_count": 12,
   "metadata": {},
   "outputs": [
    {
     "name": "stdout",
     "output_type": "stream",
     "text": [
      "Enter a month number (1-12): 9\n",
      "The month abbreviation is September.\n"
     ]
    }
   ],
   "source": [
    "month()"
   ]
  },
  {
   "cell_type": "markdown",
   "metadata": {},
   "source": [
    "There is another way to calculate the month abbreviation from a number"
   ]
  },
  {
   "cell_type": "code",
   "execution_count": 6,
   "metadata": {},
   "outputs": [],
   "source": [
    "def month2():\n",
    "    \n",
    "    # months is a list used as a lookup table\n",
    "    months = [\"Jan\", \"Feb\", \"Mar\", \"Apr\", \"May\", \"Jun\",\n",
    "              \"Jul\", \"Aug\", \"Sep\", \"Oct\", \"Nov\", \"Dec\"]\n",
    "    \n",
    "    n = eval(input(\"Enter a month number (1-12): \"))\n",
    "\n",
    "    print (\"The month abbreviation is\", months[n-1] + \".\")\n"
   ]
  },
  {
   "cell_type": "code",
   "execution_count": 7,
   "metadata": {},
   "outputs": [
    {
     "name": "stdout",
     "output_type": "stream",
     "text": [
      "Enter a month number (1-12): 3\n",
      "The month abbreviation is Mar.\n"
     ]
    }
   ],
   "source": [
    "month2()"
   ]
  },
  {
   "cell_type": "code",
   "execution_count": null,
   "metadata": {},
   "outputs": [],
   "source": []
  }
 ],
 "metadata": {
  "kernelspec": {
   "display_name": "Python 3",
   "language": "python",
   "name": "python3"
  },
  "language_info": {
   "codemirror_mode": {
    "name": "ipython",
    "version": 3
   },
   "file_extension": ".py",
   "mimetype": "text/x-python",
   "name": "python",
   "nbconvert_exporter": "python",
   "pygments_lexer": "ipython3",
   "version": "3.7.4"
  }
 },
 "nbformat": 4,
 "nbformat_minor": 2
}
