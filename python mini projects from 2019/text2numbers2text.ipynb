{
 "cells": [
  {
   "cell_type": "markdown",
   "metadata": {},
   "source": [
    "# This notebook converts text to numbers and numbers to text"
   ]
  },
  {
   "cell_type": "code",
   "execution_count": null,
   "metadata": {},
   "outputs": [],
   "source": [
    "def text2numbers():\n",
    "    print(\"This program converts a textual message into a sequence\")\n",
    "    print (\"of numbers representing the Unicode encoding of the message.\\n\")\n",
    "    \n",
    "    # Get the message to encode\n",
    "    message = input(\"Please enter the message to encode: \")\n",
    "\n",
    "    print(\"\\nHere are the Unicode codes:\")\n",
    "\n",
    "    # Loop through the message and print out the Unicode values\n",
    "    for ch in message:\n",
    "        print(ord(ch),  end=\" \")\n",
    "        \n",
    "    print()"
   ]
  },
  {
   "cell_type": "code",
   "execution_count": 2,
   "metadata": {
    "scrolled": false
   },
   "outputs": [
    {
     "ename": "NameError",
     "evalue": "name 'text2numbers' is not defined",
     "output_type": "error",
     "traceback": [
      "\u001b[1;31m---------------------------------------------------------------------------\u001b[0m",
      "\u001b[1;31mNameError\u001b[0m                                 Traceback (most recent call last)",
      "\u001b[1;32m<ipython-input-2-7a08cc1b91b4>\u001b[0m in \u001b[0;36m<module>\u001b[1;34m\u001b[0m\n\u001b[1;32m----> 1\u001b[1;33m \u001b[0mtext2numbers\u001b[0m\u001b[1;33m(\u001b[0m\u001b[1;33m)\u001b[0m\u001b[1;33m\u001b[0m\u001b[1;33m\u001b[0m\u001b[0m\n\u001b[0m",
      "\u001b[1;31mNameError\u001b[0m: name 'text2numbers' is not defined"
     ]
    }
   ],
   "source": [
    "text2numbers()"
   ]
  },
  {
   "cell_type": "code",
   "execution_count": 3,
   "metadata": {},
   "outputs": [],
   "source": [
    "def numbers2text():\n",
    "    print (\"This program converts a sequence of Unicode numbers into\")\n",
    "    print (\"the string of text that it represents.\\n\")\n",
    "\n",
    "    # Get the message to encode\n",
    "    inString = input(\"Please enter the Unicode-encoded message: \")\n",
    "\n",
    "    # Loop through each substring and build Unicde message\n",
    "    message = \"\"\n",
    "    for numStr in inString.split():\n",
    "        # convert the (sub)string to a number\n",
    "        codeNum = eval(numStr)\n",
    "        # append character to message\n",
    "        message = message + chr(codeNum) \n",
    "\n",
    "    print(\"\\nThe decoded message is:\", message)"
   ]
  },
  {
   "cell_type": "code",
   "execution_count": null,
   "metadata": {},
   "outputs": [
    {
     "name": "stdout",
     "output_type": "stream",
     "text": [
      "This program converts a sequence of Unicode numbers into\n",
      "the string of text that it represents.\n",
      "\n"
     ]
    }
   ],
   "source": [
    "numbers2text()"
   ]
  },
  {
   "cell_type": "code",
   "execution_count": 17,
   "metadata": {},
   "outputs": [],
   "source": [
    "age = \"20\""
   ]
  },
  {
   "cell_type": "code",
   "execution_count": 22,
   "metadata": {},
   "outputs": [
    {
     "name": "stdout",
     "output_type": "stream",
     "text": [
      "Enter a date (mm/dd/yyyy): 01/23/2020\n",
      "23\n",
      "01\n",
      "2020\n"
     ]
    }
   ],
   "source": [
    "dateStr = input(\"Enter a date (mm/dd/yyyy): \")\n",
    "monthStr, dayStr, yearStr = dateStr.split(\"/\")\n",
    "print (dayStr)\n",
    "print (monthStr)\n",
    "print (yearStr)\n"
   ]
  },
  {
   "cell_type": "code",
   "execution_count": null,
   "metadata": {},
   "outputs": [],
   "source": []
  }
 ],
 "metadata": {
  "kernelspec": {
   "display_name": "Python 3",
   "language": "python",
   "name": "python3"
  },
  "language_info": {
   "codemirror_mode": {
    "name": "ipython",
    "version": 3
   },
   "file_extension": ".py",
   "mimetype": "text/x-python",
   "name": "python",
   "nbconvert_exporter": "python",
   "pygments_lexer": "ipython3",
   "version": "3.7.4"
  }
 },
 "nbformat": 4,
 "nbformat_minor": 2
}
