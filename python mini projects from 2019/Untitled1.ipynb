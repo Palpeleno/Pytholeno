{
 "cells": [
  {
   "cell_type": "code",
   "execution_count": 625,
   "metadata": {},
   "outputs": [
    {
     "name": "stdout",
     "output_type": "stream",
     "text": [
      "\n",
      "Dice one average:  3.0\n",
      "\n",
      "Dice two average:  3.0\n"
     ]
    }
   ],
   "source": [
    "from random import randrange\n",
    "\"\"\"\n",
    "Simulates 200 rolls of 2 6-sided dice\n",
    "Records the results of each dice individually\n",
    "Computes an average roll from the recorded rolls\n",
    "\"\"\"\n",
    "\n",
    "def dice():\n",
    "    diceOneSum = 0\n",
    "    diceTwoSum = 0\n",
    "    roll = 0\n",
    "\n",
    "    for roll in range(201):\n",
    "         diceOne = randrange(1, 6)\n",
    "        #print(diceOne,\"+\",end='')\n",
    "\n",
    "         diceOneSum += diceOne\n",
    "        #print(diceOneSum)\n",
    "        \n",
    "    for roll in range(201):\n",
    "         diceTwo = randrange(1, 6)\n",
    "        #print(diceTwo,\"+\",end='')\n",
    "\n",
    "         diceTwoSum += diceTwo\n",
    "        #print(dicetwoSum)\n",
    "        \n",
    "         dice1Ave = diceOneSum / 200\n",
    "         dice2Ave = diceTwoSum / 200\n",
    "    print(\"\\nDice one average: \", round(dice1Ave,1))\n",
    "    print(\"\\nDice two average: \",round(dice2Ave,1))\n",
    "    \n",
    "dice()"
   ]
  }
 ],
 "metadata": {
  "kernelspec": {
   "display_name": "Python 3",
   "language": "python",
   "name": "python3"
  },
  "language_info": {
   "codemirror_mode": {
    "name": "ipython",
    "version": 3
   },
   "file_extension": ".py",
   "mimetype": "text/x-python",
   "name": "python",
   "nbconvert_exporter": "python",
   "pygments_lexer": "ipython3",
   "version": "3.7.4"
  }
 },
 "nbformat": 4,
 "nbformat_minor": 2
}
